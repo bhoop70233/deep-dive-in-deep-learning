{
  "nbformat": 4,
  "nbformat_minor": 0,
  "metadata": {
    "colab": {
      "provenance": []
    },
    "kernelspec": {
      "name": "python3",
      "display_name": "Python 3"
    },
    "language_info": {
      "name": "python"
    }
  },
  "cells": [
    {
      "cell_type": "markdown",
      "source": [
        "**Reading the Dataset**"
      ],
      "metadata": {
        "id": "oHkVpIii58ib"
      }
    },
    {
      "cell_type": "code",
      "execution_count": 5,
      "metadata": {
        "id": "keVTuhyk5VbA"
      },
      "outputs": [],
      "source": [
        "import os\n",
        "\n",
        "os.makedirs(os.path.join('..','data'),exist_ok=True)\n",
        "data_file=os.path.join('..','data','house_tiny.csv')\n",
        "with open(data_file,'w') as f:\n",
        "  f.write('''NumRooms, RoofType,price\n",
        "NA , NA <127500\n",
        "2,NA,106000\n",
        "4,Slate,178100\n",
        "NA,NA,140000''')"
      ]
    },
    {
      "cell_type": "code",
      "source": [
        "import pandas as pd\n",
        "data=pd.read_csv(data_file)\n",
        "print(data)"
      ],
      "metadata": {
        "colab": {
          "base_uri": "https://localhost:8080/"
        },
        "id": "eYVXShKG7A6c",
        "outputId": "75bc2a74-f865-4dff-abf2-a7635fee93a3"
      },
      "execution_count": 6,
      "outputs": [
        {
          "output_type": "stream",
          "name": "stdout",
          "text": [
            "  NumRooms     RoofType    price \n",
            "0      NA    NA <127500       NaN\n",
            "1        2          NaN  106000.0\n",
            "2        4        Slate  178100.0\n",
            "3      NaN          NaN  140000.0\n"
          ]
        }
      ]
    },
    {
      "cell_type": "markdown",
      "source": [
        "**Data Preparation**"
      ],
      "metadata": {
        "id": "BKCn6LDo76JQ"
      }
    },
    {
      "cell_type": "code",
      "source": [
        "inputs,targets=data.iloc[:,0:2],data.iloc[:,2]\n",
        "inputs=pd.get_dummies(inputs,dummy_na=True)\n",
        "print(inputs)"
      ],
      "metadata": {
        "colab": {
          "base_uri": "https://localhost:8080/"
        },
        "id": "MWyxGxle7QWC",
        "outputId": "a734f93d-605e-47c4-c9fc-d62f7a8c2fb2"
      },
      "execution_count": 7,
      "outputs": [
        {
          "output_type": "stream",
          "name": "stdout",
          "text": [
            "   NumRooms_2  NumRooms_4  NumRooms_NA   NumRooms_nan   RoofType_ NA <127500  \\\n",
            "0       False       False          True         False                   True   \n",
            "1        True       False         False         False                  False   \n",
            "2       False        True         False         False                  False   \n",
            "3       False       False         False          True                  False   \n",
            "\n",
            "    RoofType_Slate   RoofType_nan  \n",
            "0            False          False  \n",
            "1            False           True  \n",
            "2             True          False  \n",
            "3            False           True  \n"
          ]
        }
      ]
    },
    {
      "cell_type": "code",
      "source": [
        "inputs=inputs.fillna(inputs.mean())\n",
        "print(inputs)"
      ],
      "metadata": {
        "colab": {
          "base_uri": "https://localhost:8080/"
        },
        "id": "2lX6-CPR8yh7",
        "outputId": "677f6b06-f1dd-40ce-f234-ac1d7fdb3da4"
      },
      "execution_count": 8,
      "outputs": [
        {
          "output_type": "stream",
          "name": "stdout",
          "text": [
            "   NumRooms_2  NumRooms_4  NumRooms_NA   NumRooms_nan   RoofType_ NA <127500  \\\n",
            "0       False       False          True         False                   True   \n",
            "1        True       False         False         False                  False   \n",
            "2       False        True         False         False                  False   \n",
            "3       False       False         False          True                  False   \n",
            "\n",
            "    RoofType_Slate   RoofType_nan  \n",
            "0            False          False  \n",
            "1            False           True  \n",
            "2             True          False  \n",
            "3            False           True  \n"
          ]
        }
      ]
    },
    {
      "cell_type": "markdown",
      "source": [
        "**Conversion to the Tensor Format**"
      ],
      "metadata": {
        "id": "ga7Yz5769CHJ"
      }
    },
    {
      "cell_type": "code",
      "source": [
        "import torch\n",
        "X=torch.tensor(inputs.to_numpy(dtype=float))\n",
        "y=torch.tensor(targets.to_numpy(dtype=float))\n",
        "X,y"
      ],
      "metadata": {
        "colab": {
          "base_uri": "https://localhost:8080/"
        },
        "id": "5PWs4PmJ89Mk",
        "outputId": "b5635ad9-da24-4311-8079-b1e1ef261724"
      },
      "execution_count": 9,
      "outputs": [
        {
          "output_type": "execute_result",
          "data": {
            "text/plain": [
              "(tensor([[0., 0., 1., 0., 1., 0., 0.],\n",
              "         [1., 0., 0., 0., 0., 0., 1.],\n",
              "         [0., 1., 0., 0., 0., 1., 0.],\n",
              "         [0., 0., 0., 1., 0., 0., 1.]], dtype=torch.float64),\n",
              " tensor([    nan, 106000., 178100., 140000.], dtype=torch.float64))"
            ]
          },
          "metadata": {},
          "execution_count": 9
        }
      ]
    },
    {
      "cell_type": "code",
      "source": [],
      "metadata": {
        "id": "E42MvnV-9X78"
      },
      "execution_count": null,
      "outputs": []
    }
  ]
}